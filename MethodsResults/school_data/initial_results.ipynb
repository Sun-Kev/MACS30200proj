{
 "cells": [
  {
   "cell_type": "code",
   "execution_count": 1,
   "metadata": {
    "collapsed": true
   },
   "outputs": [],
   "source": [
    "import pandas as pd \n",
    "import numpy as np \n",
    "import seaborn as sns\n",
    "import matplotlib.pyplot as plt\n",
    "%matplotlib inline"
   ]
  },
  {
   "cell_type": "code",
   "execution_count": 29,
   "metadata": {},
   "outputs": [],
   "source": [
    "data = pd.read_csv('cleaned_data.csv')\n",
    "data['constant'] = 1"
   ]
  },
  {
   "cell_type": "code",
   "execution_count": 30,
   "metadata": {},
   "outputs": [
    {
     "data": {
      "text/html": [
       "<div>\n",
       "<style>\n",
       "    .dataframe thead tr:only-child th {\n",
       "        text-align: right;\n",
       "    }\n",
       "\n",
       "    .dataframe thead th {\n",
       "        text-align: left;\n",
       "    }\n",
       "\n",
       "    .dataframe tbody tr th {\n",
       "        vertical-align: top;\n",
       "    }\n",
       "</style>\n",
       "<table border=\"1\" class=\"dataframe\">\n",
       "  <thead>\n",
       "    <tr style=\"text-align: right;\">\n",
       "      <th></th>\n",
       "      <th>ID</th>\n",
       "      <th>school</th>\n",
       "      <th>critical_mass</th>\n",
       "      <th>15_pers_p</th>\n",
       "      <th>14_pers_p</th>\n",
       "      <th>13_pers_p</th>\n",
       "      <th>12_pers_p</th>\n",
       "      <th>11_pers_p</th>\n",
       "      <th>10_pers_p</th>\n",
       "      <th>white</th>\n",
       "      <th>...</th>\n",
       "      <th>nat_am_alsk</th>\n",
       "      <th>hispanic</th>\n",
       "      <th>multi</th>\n",
       "      <th>asian</th>\n",
       "      <th>hi_pi</th>\n",
       "      <th>unknown</th>\n",
       "      <th>ell</th>\n",
       "      <th>sped</th>\n",
       "      <th>free_lunch</th>\n",
       "      <th>constant</th>\n",
       "    </tr>\n",
       "  </thead>\n",
       "  <tbody>\n",
       "    <tr>\n",
       "      <th>0</th>\n",
       "      <td>610334</td>\n",
       "      <td>Al Raby High School</td>\n",
       "      <td>0.103448</td>\n",
       "      <td>51.1</td>\n",
       "      <td>54.8</td>\n",
       "      <td>65.6</td>\n",
       "      <td>76.9</td>\n",
       "      <td>58.5</td>\n",
       "      <td>73.5</td>\n",
       "      <td>0.5</td>\n",
       "      <td>...</td>\n",
       "      <td>0.0000</td>\n",
       "      <td>5.8</td>\n",
       "      <td>0.00</td>\n",
       "      <td>0.265</td>\n",
       "      <td>0.2646</td>\n",
       "      <td>0.000</td>\n",
       "      <td>0.0265</td>\n",
       "      <td>0.2672</td>\n",
       "      <td>0.9868</td>\n",
       "      <td>1</td>\n",
       "    </tr>\n",
       "    <tr>\n",
       "      <th>1</th>\n",
       "      <td>609720</td>\n",
       "      <td>Albert G Lane Tech High School</td>\n",
       "      <td>0.178571</td>\n",
       "      <td>89.5</td>\n",
       "      <td>91.3</td>\n",
       "      <td>88.4</td>\n",
       "      <td>90.6</td>\n",
       "      <td>86.2</td>\n",
       "      <td>89.3</td>\n",
       "      <td>35.3</td>\n",
       "      <td>...</td>\n",
       "      <td>0.3831</td>\n",
       "      <td>40.8</td>\n",
       "      <td>2.64</td>\n",
       "      <td>10.545</td>\n",
       "      <td>0.2704</td>\n",
       "      <td>2.096</td>\n",
       "      <td>0.0059</td>\n",
       "      <td>0.0435</td>\n",
       "      <td>0.4923</td>\n",
       "      <td>1</td>\n",
       "    </tr>\n",
       "    <tr>\n",
       "      <th>2</th>\n",
       "      <td>610518</td>\n",
       "      <td>Austin College and Career Acad</td>\n",
       "      <td>0.052632</td>\n",
       "      <td>50.0</td>\n",
       "      <td>47.6</td>\n",
       "      <td>54.5</td>\n",
       "      <td>47.9</td>\n",
       "      <td>50.0</td>\n",
       "      <td>50.0</td>\n",
       "      <td>0.5</td>\n",
       "      <td>...</td>\n",
       "      <td>0.4566</td>\n",
       "      <td>2.3</td>\n",
       "      <td>0.46</td>\n",
       "      <td>0.000</td>\n",
       "      <td>0.0000</td>\n",
       "      <td>0.000</td>\n",
       "      <td>0.0137</td>\n",
       "      <td>0.2968</td>\n",
       "      <td>0.9680</td>\n",
       "      <td>1</td>\n",
       "    </tr>\n",
       "    <tr>\n",
       "      <th>3</th>\n",
       "      <td>609764</td>\n",
       "      <td>Benito Juarez High School</td>\n",
       "      <td>0.324786</td>\n",
       "      <td>63.3</td>\n",
       "      <td>64.4</td>\n",
       "      <td>66.3</td>\n",
       "      <td>66.7</td>\n",
       "      <td>63.9</td>\n",
       "      <td>74.0</td>\n",
       "      <td>0.7</td>\n",
       "      <td>...</td>\n",
       "      <td>0.3460</td>\n",
       "      <td>94.5</td>\n",
       "      <td>0.17</td>\n",
       "      <td>0.288</td>\n",
       "      <td>0.0000</td>\n",
       "      <td>0.634</td>\n",
       "      <td>0.1943</td>\n",
       "      <td>0.1615</td>\n",
       "      <td>0.9550</td>\n",
       "      <td>1</td>\n",
       "    </tr>\n",
       "    <tr>\n",
       "      <th>4</th>\n",
       "      <td>610323</td>\n",
       "      <td>Bowen High School</td>\n",
       "      <td>0.100000</td>\n",
       "      <td>32.5</td>\n",
       "      <td>44.1</td>\n",
       "      <td>52.6</td>\n",
       "      <td>52.9</td>\n",
       "      <td>61.9</td>\n",
       "      <td>62.8</td>\n",
       "      <td>0.7</td>\n",
       "      <td>...</td>\n",
       "      <td>0.0000</td>\n",
       "      <td>20.9</td>\n",
       "      <td>0.34</td>\n",
       "      <td>0.000</td>\n",
       "      <td>0.0000</td>\n",
       "      <td>0.000</td>\n",
       "      <td>0.0741</td>\n",
       "      <td>0.3098</td>\n",
       "      <td>0.9192</td>\n",
       "      <td>1</td>\n",
       "    </tr>\n",
       "  </tbody>\n",
       "</table>\n",
       "<p>5 rows × 21 columns</p>\n",
       "</div>"
      ],
      "text/plain": [
       "       ID                          school  critical_mass  15_pers_p  \\\n",
       "0  610334             Al Raby High School       0.103448       51.1   \n",
       "1  609720  Albert G Lane Tech High School       0.178571       89.5   \n",
       "2  610518  Austin College and Career Acad       0.052632       50.0   \n",
       "3  609764       Benito Juarez High School       0.324786       63.3   \n",
       "4  610323               Bowen High School       0.100000       32.5   \n",
       "\n",
       "   14_pers_p  13_pers_p  12_pers_p  11_pers_p  10_pers_p  white    ...     \\\n",
       "0       54.8       65.6       76.9       58.5       73.5    0.5    ...      \n",
       "1       91.3       88.4       90.6       86.2       89.3   35.3    ...      \n",
       "2       47.6       54.5       47.9       50.0       50.0    0.5    ...      \n",
       "3       64.4       66.3       66.7       63.9       74.0    0.7    ...      \n",
       "4       44.1       52.6       52.9       61.9       62.8    0.7    ...      \n",
       "\n",
       "   nat_am_alsk  hispanic  multi   asian   hi_pi  unknown     ell    sped  \\\n",
       "0       0.0000       5.8   0.00   0.265  0.2646    0.000  0.0265  0.2672   \n",
       "1       0.3831      40.8   2.64  10.545  0.2704    2.096  0.0059  0.0435   \n",
       "2       0.4566       2.3   0.46   0.000  0.0000    0.000  0.0137  0.2968   \n",
       "3       0.3460      94.5   0.17   0.288  0.0000    0.634  0.1943  0.1615   \n",
       "4       0.0000      20.9   0.34   0.000  0.0000    0.000  0.0741  0.3098   \n",
       "\n",
       "   free_lunch  constant  \n",
       "0      0.9868         1  \n",
       "1      0.4923         1  \n",
       "2      0.9680         1  \n",
       "3      0.9550         1  \n",
       "4      0.9192         1  \n",
       "\n",
       "[5 rows x 21 columns]"
      ]
     },
     "execution_count": 30,
     "metadata": {},
     "output_type": "execute_result"
    }
   ],
   "source": [
    "data.head()"
   ]
  },
  {
   "cell_type": "code",
   "execution_count": 5,
   "metadata": {},
   "outputs": [
    {
     "data": {
      "text/plain": [
       "count    71.000000\n",
       "mean      0.182329\n",
       "std       0.101855\n",
       "min       0.000000\n",
       "25%       0.103271\n",
       "50%       0.172840\n",
       "75%       0.266956\n",
       "max       0.416667\n",
       "Name: critical_mass, dtype: float64"
      ]
     },
     "execution_count": 5,
     "metadata": {},
     "output_type": "execute_result"
    }
   ],
   "source": [
    "# descriptive statistics for critical_mass\n",
    "critical_mass = data['critical_mass']\n",
    "critical_mass.describe()"
   ]
  },
  {
   "cell_type": "code",
   "execution_count": 9,
   "metadata": {},
   "outputs": [
    {
     "name": "stdout",
     "output_type": "stream",
     "text": [
      "Descriptive statistics for 2015 Persistence:\n"
     ]
    },
    {
     "data": {
      "text/plain": [
       "count    71.000000\n",
       "mean     61.869014\n",
       "std      17.364558\n",
       "min      17.600000\n",
       "25%      51.400000\n",
       "50%      61.400000\n",
       "75%      73.300000\n",
       "max      94.100000\n",
       "Name: 15_pers_p, dtype: float64"
      ]
     },
     "execution_count": 9,
     "metadata": {},
     "output_type": "execute_result"
    }
   ],
   "source": [
    "# descriptive statistics for other variables\n",
    "print(\"Descriptive statistics for 2015 Persistence:\")\n",
    "data['15_pers_p'].describe()"
   ]
  },
  {
   "cell_type": "code",
   "execution_count": 10,
   "metadata": {},
   "outputs": [
    {
     "name": "stdout",
     "output_type": "stream",
     "text": [
      "Descriptive statistics for 2014 Persistence:\n"
     ]
    },
    {
     "data": {
      "text/plain": [
       "count    71.000000\n",
       "mean     62.394366\n",
       "std      16.738867\n",
       "min      29.600000\n",
       "25%      50.050000\n",
       "50%      63.900000\n",
       "75%      72.450000\n",
       "max      96.500000\n",
       "Name: 14_pers_p, dtype: float64"
      ]
     },
     "execution_count": 10,
     "metadata": {},
     "output_type": "execute_result"
    }
   ],
   "source": [
    "print(\"Descriptive statistics for 2014 Persistence:\")\n",
    "data['14_pers_p'].describe()"
   ]
  },
  {
   "cell_type": "code",
   "execution_count": 11,
   "metadata": {},
   "outputs": [
    {
     "name": "stdout",
     "output_type": "stream",
     "text": [
      "Descriptive statistics for 2013 Persistence:\n"
     ]
    },
    {
     "data": {
      "text/plain": [
       "count    71.000000\n",
       "mean     62.846479\n",
       "std      16.880816\n",
       "min      26.700000\n",
       "25%      50.500000\n",
       "50%      65.300000\n",
       "75%      75.300000\n",
       "max      95.000000\n",
       "Name: 13_pers_p, dtype: float64"
      ]
     },
     "execution_count": 11,
     "metadata": {},
     "output_type": "execute_result"
    }
   ],
   "source": [
    "print(\"Descriptive statistics for 2013 Persistence:\")\n",
    "data['13_pers_p'].describe()"
   ]
  },
  {
   "cell_type": "code",
   "execution_count": 12,
   "metadata": {},
   "outputs": [
    {
     "name": "stdout",
     "output_type": "stream",
     "text": [
      "Descriptive statistics for 2012 Persistence:\n"
     ]
    },
    {
     "data": {
      "text/plain": [
       "count    71.000000\n",
       "mean     64.585915\n",
       "std      14.719436\n",
       "min      28.200000\n",
       "25%      54.050000\n",
       "50%      66.000000\n",
       "75%      73.950000\n",
       "max      95.700000\n",
       "Name: 12_pers_p, dtype: float64"
      ]
     },
     "execution_count": 12,
     "metadata": {},
     "output_type": "execute_result"
    }
   ],
   "source": [
    "print(\"Descriptive statistics for 2012 Persistence:\")\n",
    "data['12_pers_p'].describe()"
   ]
  },
  {
   "cell_type": "code",
   "execution_count": 13,
   "metadata": {},
   "outputs": [
    {
     "name": "stdout",
     "output_type": "stream",
     "text": [
      "Descriptive statistics for 2011 Persistence:\n"
     ]
    },
    {
     "data": {
      "text/plain": [
       "count    71.000000\n",
       "mean     64.380282\n",
       "std      14.232795\n",
       "min      18.200000\n",
       "25%      53.650000\n",
       "50%      62.800000\n",
       "75%      74.800000\n",
       "max      95.200000\n",
       "Name: 11_pers_p, dtype: float64"
      ]
     },
     "execution_count": 13,
     "metadata": {},
     "output_type": "execute_result"
    }
   ],
   "source": [
    "print(\"Descriptive statistics for 2011 Persistence:\")\n",
    "data['11_pers_p'].describe()"
   ]
  },
  {
   "cell_type": "code",
   "execution_count": 14,
   "metadata": {},
   "outputs": [
    {
     "name": "stdout",
     "output_type": "stream",
     "text": [
      "Descriptive statistics for 2010 Persistence:\n"
     ]
    },
    {
     "data": {
      "text/plain": [
       "count    71.000000\n",
       "mean     68.229296\n",
       "std      12.913266\n",
       "min      32.400000\n",
       "25%      62.250000\n",
       "50%      68.500000\n",
       "75%      75.550000\n",
       "max      98.500000\n",
       "Name: 10_pers_p, dtype: float64"
      ]
     },
     "execution_count": 14,
     "metadata": {},
     "output_type": "execute_result"
    }
   ],
   "source": [
    "print(\"Descriptive statistics for 2010 Persistence:\")\n",
    "data['10_pers_p'].describe()"
   ]
  },
  {
   "cell_type": "code",
   "execution_count": 20,
   "metadata": {},
   "outputs": [
    {
     "data": {
      "text/plain": [
       "<matplotlib.text.Text at 0x1a15f31f98>"
      ]
     },
     "execution_count": 20,
     "metadata": {},
     "output_type": "execute_result"
    },
    {
     "data": {
      "image/png": "[encoded data removed]",
      "text/plain": [
       "<matplotlib.figure.Figure at 0x1a15ee6dd8>"
      ]
     },
     "metadata": {},
     "output_type": "display_data"
    }
   ],
   "source": [
    "plt.hist(critical_mass, bins=40, edgecolor=\"black\", normed=True)\n",
    "plt.title(\"Histogram of Critical Mass Variable\")\n",
    "plt.xlabel(\"Proportion of Non-White Teachers\")\n",
    "plt.ylabel(\"Number of Schools\")"
   ]
  },
  {
   "cell_type": "code",
   "execution_count": 24,
   "metadata": {},
   "outputs": [
    {
     "data": {
      "text/plain": [
       "<matplotlib.text.Text at 0x1a165a4710>"
      ]
     },
     "execution_count": 24,
     "metadata": {},
     "output_type": "execute_result"
    },
    {
     "data": {
      "image/png": "[encoded data removed]",
      "text/plain": [
       "<matplotlib.figure.Figure at 0x1a165e0b70>"
      ]
     },
     "metadata": {},
     "output_type": "display_data"
    }
   ],
   "source": [
    "persistence_15 = data['15_pers_p']\n",
    "plt.hist(persistence_15, bins=30, edgecolor=\"black\", normed=True)\n",
    "plt.title(\"Histogram of 2015 College Persistence Rates\")\n",
    "plt.xlabel(\"College Persistence/Retention Rate (%)\")\n",
    "plt.ylabel(\"Density\")"
   ]
  },
  {
   "cell_type": "code",
   "execution_count": 26,
   "metadata": {},
   "outputs": [
    {
     "data": {
      "text/plain": [
       "<matplotlib.text.Text at 0x1a16743400>"
      ]
     },
     "execution_count": 26,
     "metadata": {},
     "output_type": "execute_result"
    },
    {
     "data": {
      "image/png": "[encoded data removed]",
      "text/plain": [
       "<matplotlib.figure.Figure at 0x1a1687a898>"
      ]
     },
     "metadata": {},
     "output_type": "display_data"
    }
   ],
   "source": [
    "plt.scatter(x=critical_mass, y=persistence_15)\n",
    "plt.title('Scatterplot of Critical Mass & Persistence Rate')\n",
    "plt.xlabel('Critical Mass (proportion)')\n",
    "plt.ylabel('Retention/Persistence Rate')"
   ]
  },
  {
   "cell_type": "code",
   "execution_count": 31,
   "metadata": {},
   "outputs": [
    {
     "data": {
      "text/plain": [
       "Index(['ID', 'school', 'critical_mass', '15_pers_p', '14_pers_p', '13_pers_p',\n",
       "       '12_pers_p', '11_pers_p', '10_pers_p', 'white', 'black', 'nat_am_alsk',\n",
       "       'hispanic', 'multi', 'asian', 'hi_pi', 'unknown', 'ell', 'sped',\n",
       "       'free_lunch', 'constant'],\n",
       "      dtype='object')"
      ]
     },
     "execution_count": 31,
     "metadata": {},
     "output_type": "execute_result"
    }
   ],
   "source": [
    "data.columns"
   ]
  },
  {
   "cell_type": "code",
   "execution_count": 33,
   "metadata": {},
   "outputs": [
    {
     "name": "stdout",
     "output_type": "stream",
     "text": [
      "                            OLS Regression Results                            \n",
      "==============================================================================\n",
      "Dep. Variable:              15_pers_p   R-squared:                       0.708\n",
      "Model:                            OLS   Adj. R-squared:                  0.648\n",
      "Method:                 Least Squares   F-statistic:                     11.72\n",
      "Date:                Sun, 06 May 2018   Prob (F-statistic):           1.67e-11\n",
      "Time:                        20:04:01   Log-Likelihood:                -259.21\n",
      "No. Observations:                  71   AIC:                             544.4\n",
      "Df Residuals:                      58   BIC:                             573.8\n",
      "Df Model:                          12                                         \n",
      "Covariance Type:            nonrobust                                         \n",
      "=================================================================================\n",
      "                    coef    std err          t      P>|t|      [0.025      0.975]\n",
      "---------------------------------------------------------------------------------\n",
      "constant         70.1730   2902.180      0.024      0.981   -5739.171    5879.517\n",
      "critical_mass   -19.5221     22.049     -0.885      0.380     -63.658      24.613\n",
      "white             0.7278     29.005      0.025      0.980     -57.332      58.787\n",
      "black             0.6698     29.021      0.023      0.982     -57.421      58.761\n",
      "nat_am_alsk       0.1416     29.549      0.005      0.996     -59.006      59.290\n",
      "hispanic          0.8030     29.019      0.028      0.978     -57.285      58.891\n",
      "multi            -3.8293     29.569     -0.130      0.897     -63.018      55.359\n",
      "asian             1.2574     28.972      0.043      0.966     -56.737      59.251\n",
      "hi_pi            -1.1538     30.553     -0.038      0.970     -62.313      60.006\n",
      "unknown          -0.5121     29.497     -0.017      0.986     -59.556      58.532\n",
      "ell               0.1835      0.590      0.311      0.757      -0.997       1.364\n",
      "sped            -63.5387     19.516     -3.256      0.002    -102.604     -24.474\n",
      "free_lunch      -72.6953     26.834     -2.709      0.009    -126.410     -18.981\n",
      "==============================================================================\n",
      "Omnibus:                        5.670   Durbin-Watson:                   2.108\n",
      "Prob(Omnibus):                  0.059   Jarque-Bera (JB):                4.874\n",
      "Skew:                          -0.607   Prob(JB):                       0.0874\n",
      "Kurtosis:                       3.419   Cond. No.                     1.56e+05\n",
      "==============================================================================\n",
      "\n",
      "Warnings:\n",
      "[1] Standard Errors assume that the covariance matrix of the errors is correctly specified.\n",
      "[2] The condition number is large, 1.56e+05. This might indicate that there are\n",
      "strong multicollinearity or other numerical problems.\n"
     ]
    }
   ],
   "source": [
    "import statsmodels.api as sm\n",
    "X_vars = data[['constant','critical_mass', 'white', 'black', 'nat_am_alsk', 'hispanic', 'multi', 'asian', 'hi_pi', 'unknown', 'ell', 'sped', 'free_lunch']]\n",
    "reg = sm.OLS(endog=persistence_15, exog=X_vars, missing='drop')\n",
    "reg_results = reg.fit()\n",
    "print(reg_results.summary())"
   ]
  },
  {
   "cell_type": "code",
   "execution_count": null,
   "metadata": {
    "collapsed": true
   },
   "outputs": [],
   "source": []
  }
 ],
 "metadata": {
  "kernelspec": {
   "display_name": "Python 3",
   "language": "python",
   "name": "python3"
  },
  "language_info": {
   "codemirror_mode": {
    "name": "ipython",
    "version": 3
   },
   "file_extension": ".py",
   "mimetype": "text/x-python",
   "name": "python",
   "nbconvert_exporter": "python",
   "pygments_lexer": "ipython3",
   "version": "3.6.2"
  }
 },
 "nbformat": 4,
 "nbformat_minor": 2
}
