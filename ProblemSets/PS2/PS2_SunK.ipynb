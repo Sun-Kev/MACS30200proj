{
 "cells": [
  {
   "cell_type": "markdown",
   "metadata": {},
   "source": [
    "## Problem Set 2 (MACSS 30200)\n",
    "## Kevin Sun\n",
    "## April 30, 2018"
   ]
  },
  {
   "cell_type": "markdown",
   "metadata": {},
   "source": [
    "### Question 1 - Kernel Density Estimator"
   ]
  },
  {
   "cell_type": "code",
   "execution_count": 15,
   "metadata": {},
   "outputs": [],
   "source": [
    "import numpy as np\n",
    "from scipy import stats\n",
    "import matplotlib.pyplot as plt\n",
    "from mpl_toolkits.mplot3d import Axes3D\n",
    "# This next command is specifically for Jupyter Notebook\n",
    "%matplotlib notebook\n",
    "bq_data = np.loadtxt('BQmat_orig.txt', delimiter=',')"
   ]
  },
  {
   "cell_type": "code",
   "execution_count": 14,
   "metadata": {},
   "outputs": [
    {
     "data": {
      "text/plain": [
       "DescribeResult(nobs=78, minmax=(array([ 0.,  0.,  0.,  0.,  0.,  0.,  0.]), array([ 0.00176546,  0.00251158,  0.00231372,  0.00179234,  0.00223888,\n",
       "        0.00690899,  0.05920561])), mean=array([ 0.00015572,  0.00010475,  0.00020397,  0.00017944,  0.00017732,\n",
       "        0.00088811,  0.01111121]), variance=array([  9.41560440e-08,   1.38147590e-07,   1.69244570e-07,\n",
       "         1.17407464e-07,   1.47101757e-07,   1.67261523e-06,\n",
       "         1.65946657e-04]), skewness=array([ 3.05531739,  4.8814888 ,  2.83442677,  2.52382518,  3.17328079,\n",
       "        2.19452699,  1.60252466]), kurtosis=array([ 10.45021607,  25.0681298 ,   9.0327441 ,   6.72841001,\n",
       "        11.33954696,   5.62869024,   2.37824905]))"
      ]
     },
     "execution_count": 14,
     "metadata": {},
     "output_type": "execute_result"
    }
   ],
   "source": [
    "bq_data.view()\n",
    "stats.describe(bq_data)"
   ]
  },
  {
   "cell_type": "code",
   "execution_count": null,
   "metadata": {
    "collapsed": true
   },
   "outputs": [],
   "source": []
  },
  {
   "cell_type": "markdown",
   "metadata": {},
   "source": [
    "### Question 2 - Interaction Terms"
   ]
  },
  {
   "cell_type": "code",
   "execution_count": null,
   "metadata": {
    "collapsed": true
   },
   "outputs": [],
   "source": []
  },
  {
   "cell_type": "markdown",
   "metadata": {},
   "source": [
    "### Question 3 - Parallel Computing"
   ]
  },
  {
   "cell_type": "code",
   "execution_count": null,
   "metadata": {
    "collapsed": true
   },
   "outputs": [],
   "source": []
  }
 ],
 "metadata": {
  "kernelspec": {
   "display_name": "Python 3",
   "language": "python",
   "name": "python3"
  },
  "language_info": {
   "codemirror_mode": {
    "name": "ipython",
    "version": 3
   },
   "file_extension": ".py",
   "mimetype": "text/x-python",
   "name": "python",
   "nbconvert_exporter": "python",
   "pygments_lexer": "ipython3",
   "version": "3.6.2"
  }
 },
 "nbformat": 4,
 "nbformat_minor": 2
}
